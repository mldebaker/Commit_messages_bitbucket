{
 "cells": [
  {
   "cell_type": "markdown",
   "metadata": {},
   "source": [
    "# API Test Calance US"
   ]
  },
  {
   "cell_type": "code",
   "execution_count": 76,
   "metadata": {},
   "outputs": [],
   "source": [
    "# Dependencies and Setup\n",
    "import pandas as pd\n",
    "import requests\n",
    "import json "
   ]
  },
  {
   "cell_type": "code",
   "execution_count": 77,
   "metadata": {},
   "outputs": [
    {
     "name": "stdout",
     "output_type": "stream",
     "text": [
      "{\n",
      "     \"author\": {\n",
      "          \"raw\": \"Daniel Williams <dwilliams@calance.com>\",\n",
      "          \"type\": \"author\",\n",
      "          \"user\": {\n",
      "               \"account_id\": \"557058:618c6868-28c1-4328-ad4e-6534acbb5e4e\",\n",
      "               \"display_name\": \"Daniel Williams\",\n",
      "               \"links\": {\n",
      "                    \"avatar\": {\n",
      "                         \"href\": \"https://secure.gravatar.com/avatar/f9e4698b399154b37b07af39d86878bb?d=https%3A%2F%2Favatar-management--avatars.us-west-2.prod.public.atl-paas.net%2Finitials%2FDW-6.png\"\n",
      "                    },\n",
      "                    \"html\": {\n",
      "                         \"href\": \"https://bitbucket.org/%7B11c4ad47-6dbf-4da7-95eb-39d6e0a7dc30%7D/\"\n",
      "                    },\n",
      "                    \"self\": {\n",
      "                         \"href\": \"https://api.bitbucket.org/2.0/users/%7B11c4ad47-6dbf-4da7-95eb-39d6e0a7dc30%7D\"\n",
      "                    }\n",
      "               },\n",
      "               \"nickname\": \"Daniel Williams\",\n",
      "               \"type\": \"user\",\n",
      "               \"uuid\": \"{11c4ad47-6dbf-4da7-95eb-39d6e0a7dc30}\"\n",
      "          }\n",
      "     },\n",
      "     \"date\": \"2019-04-21T22:47:55+00:00\",\n",
      "     \"hash\": \"b2b08f699f0590716808b70a8d8d3d4063bf436e\",\n",
      "     \"links\": {\n",
      "          \"approve\": {\n",
      "               \"href\": \"https://api.bitbucket.org/2.0/repositories/calanceus/api-test/commit/b2b08f699f0590716808b70a8d8d3d4063bf436e/approve\"\n",
      "          },\n",
      "          \"comments\": {\n",
      "               \"href\": \"https://api.bitbucket.org/2.0/repositories/calanceus/api-test/commit/b2b08f699f0590716808b70a8d8d3d4063bf436e/comments\"\n",
      "          },\n",
      "          \"diff\": {\n",
      "               \"href\": \"https://api.bitbucket.org/2.0/repositories/calanceus/api-test/diff/b2b08f699f0590716808b70a8d8d3d4063bf436e\"\n",
      "          },\n",
      "          \"html\": {\n",
      "               \"href\": \"https://bitbucket.org/calanceus/api-test/commits/b2b08f699f0590716808b70a8d8d3d4063bf436e\"\n",
      "          },\n",
      "          \"patch\": {\n",
      "               \"href\": \"https://api.bitbucket.org/2.0/repositories/calanceus/api-test/patch/b2b08f699f0590716808b70a8d8d3d4063bf436e\"\n",
      "          },\n",
      "          \"self\": {\n",
      "               \"href\": \"https://api.bitbucket.org/2.0/repositories/calanceus/api-test/commit/b2b08f699f0590716808b70a8d8d3d4063bf436e\"\n",
      "          },\n",
      "          \"statuses\": {\n",
      "               \"href\": \"https://api.bitbucket.org/2.0/repositories/calanceus/api-test/commit/b2b08f699f0590716808b70a8d8d3d4063bf436e/statuses\"\n",
      "          }\n",
      "     },\n",
      "     \"message\": \"simple edit\\n\",\n",
      "     \"parents\": [\n",
      "          {\n",
      "               \"hash\": \"9de016dd4e237590af8b97ec34f7076b562e91df\",\n",
      "               \"links\": {\n",
      "                    \"html\": {\n",
      "                         \"href\": \"https://bitbucket.org/calanceus/api-test/commits/9de016dd4e237590af8b97ec34f7076b562e91df\"\n",
      "                    },\n",
      "                    \"self\": {\n",
      "                         \"href\": \"https://api.bitbucket.org/2.0/repositories/calanceus/api-test/commit/9de016dd4e237590af8b97ec34f7076b562e91df\"\n",
      "                    }\n",
      "               },\n",
      "               \"type\": \"commit\"\n",
      "          }\n",
      "     ],\n",
      "     \"participants\": [],\n",
      "     \"rendered\": {\n",
      "          \"message\": {\n",
      "               \"html\": \"<p>simple edit</p>\",\n",
      "               \"markup\": \"markdown\",\n",
      "               \"raw\": \"simple edit\\n\",\n",
      "               \"type\": \"rendered\"\n",
      "          }\n",
      "     },\n",
      "     \"repository\": {\n",
      "          \"full_name\": \"calanceus/api-test\",\n",
      "          \"links\": {\n",
      "               \"avatar\": {\n",
      "                    \"href\": \"https://bytebucket.org/ravatar/%7B38b213d6-3967-4cf8-a92d-8b145c54588a%7D?ts=default\"\n",
      "               },\n",
      "               \"html\": {\n",
      "                    \"href\": \"https://bitbucket.org/calanceus/api-test\"\n",
      "               },\n",
      "               \"self\": {\n",
      "                    \"href\": \"https://api.bitbucket.org/2.0/repositories/calanceus/api-test\"\n",
      "               }\n",
      "          },\n",
      "          \"name\": \"API Test\",\n",
      "          \"type\": \"repository\",\n",
      "          \"uuid\": \"{38b213d6-3967-4cf8-a92d-8b145c54588a}\"\n",
      "     },\n",
      "     \"summary\": {\n",
      "          \"html\": \"<p>simple edit</p>\",\n",
      "          \"markup\": \"markdown\",\n",
      "          \"raw\": \"simple edit\\n\",\n",
      "          \"type\": \"rendered\"\n",
      "     },\n",
      "     \"type\": \"commit\"\n",
      "}\n"
     ]
    }
   ],
   "source": [
    "# Make Request tor Commit Comment b2b08f6\n",
    "b2b08f6 = requests.get('https://api.bitbucket.org/2.0/repositories/calanceus/api-test/commit/b2b08f6')\n",
    "b2b08f6_json = b2b08f6.json()\n",
    "print(json.dumps(b2b08f6_json, indent=5, sort_keys=True))"
   ]
  },
  {
   "cell_type": "code",
   "execution_count": 78,
   "metadata": {},
   "outputs": [],
   "source": [
    "# Make Request tor Commit Comment 9de016d\n",
    "response = requests.get('https://api.bitbucket.org/2.0/repositories/calanceus/api-test/commit/9de016d')\n",
    "json2 = response.json()"
   ]
  },
  {
   "cell_type": "code",
   "execution_count": 79,
   "metadata": {},
   "outputs": [],
   "source": [
    "# Make Request tor Commit Comment ce03dc0\n",
    "response = requests.get('https://api.bitbucket.org/2.0/repositories/calanceus/api-test/commit/ce03dc0')\n",
    "json3 = response.json()"
   ]
  },
  {
   "cell_type": "code",
   "execution_count": 80,
   "metadata": {},
   "outputs": [],
   "source": [
    "# Make Request tor Commit Comment 5c69e6a\n",
    "response = requests.get('https://api.bitbucket.org/2.0/repositories/calanceus/api-test/commit/5c69e6a')\n",
    "json4 = response.json()"
   ]
  },
  {
   "cell_type": "code",
   "execution_count": 81,
   "metadata": {},
   "outputs": [],
   "source": [
    "# Make Request tor Commit Comment 3aab06e\n",
    "response = requests.get('https://api.bitbucket.org/2.0/repositories/calanceus/api-test/commit/3aab06e')\n",
    "json5 = response.json()"
   ]
  },
  {
   "cell_type": "code",
   "execution_count": 82,
   "metadata": {},
   "outputs": [],
   "source": [
    "# Make Request tor Commit Comment bf43da5\n",
    "response = requests.get('https://api.bitbucket.org/2.0/repositories/calanceus/api-test/commit/bf43da5')\n",
    "json6 = response.json()"
   ]
  },
  {
   "cell_type": "code",
   "execution_count": 83,
   "metadata": {},
   "outputs": [],
   "source": [
    "# Make Request tor Commit Comment 947362e\n",
    "response = requests.get('https://api.bitbucket.org/2.0/repositories/calanceus/api-test/commit/947362e')\n",
    "json7 = response.json()"
   ]
  },
  {
   "cell_type": "code",
   "execution_count": 88,
   "metadata": {},
   "outputs": [
    {
     "name": "stdout",
     "output_type": "stream",
     "text": [
      "simple edit\n",
      "\n",
      "line break\n",
      "\n",
      "\"hello world\", she said.\n",
      "\n",
      "Another comment.\n",
      "\n",
      "I am the walrus.\n",
      "\n",
      "Commit #2!\n",
      "\n",
      "Added a file!\n",
      "\n"
     ]
    }
   ],
   "source": [
    "# Print Out Comments \n",
    "print(b2b08f6_json[\"message\"])\n",
    "print(json2[\"message\"])\n",
    "print(json3[\"message\"])\n",
    "print(json4[\"message\"])\n",
    "print(json5[\"message\"])\n",
    "print(json6[\"message\"])\n",
    "print(json7[\"message\"])"
   ]
  },
  {
   "cell_type": "markdown",
   "metadata": {},
   "source": [
    "## What didnt work..."
   ]
  },
  {
   "cell_type": "code",
   "execution_count": 94,
   "metadata": {},
   "outputs": [],
   "source": [
    "r = requests.get('https://api.bitbucket.org/2.0/repositories/calanceus/api-test/commit/b2b08f6/comments')"
   ]
  },
  {
   "cell_type": "code",
   "execution_count": 95,
   "metadata": {},
   "outputs": [
    {
     "data": {
      "text/plain": [
       "<Response [200]>"
      ]
     },
     "execution_count": 95,
     "metadata": {},
     "output_type": "execute_result"
    }
   ],
   "source": [
    "r"
   ]
  },
  {
   "cell_type": "code",
   "execution_count": 96,
   "metadata": {},
   "outputs": [
    {
     "name": "stdout",
     "output_type": "stream",
     "text": [
      "{\"pagelen\": 10, \"values\": [], \"page\": 1, \"size\": 0}\n"
     ]
    }
   ],
   "source": [
    "print(r.text)"
   ]
  },
  {
   "cell_type": "code",
   "execution_count": 97,
   "metadata": {},
   "outputs": [
    {
     "name": "stdout",
     "output_type": "stream",
     "text": [
      "{'pagelen': 10, 'values': [], 'page': 1, 'size': 0}\n"
     ]
    }
   ],
   "source": [
    "print(r.json())"
   ]
  },
  {
   "cell_type": "code",
   "execution_count": null,
   "metadata": {},
   "outputs": [],
   "source": []
  }
 ],
 "metadata": {
  "kernelspec": {
   "display_name": "Python 3",
   "language": "python",
   "name": "python3"
  },
  "language_info": {
   "codemirror_mode": {
    "name": "ipython",
    "version": 3
   },
   "file_extension": ".py",
   "mimetype": "text/x-python",
   "name": "python",
   "nbconvert_exporter": "python",
   "pygments_lexer": "ipython3",
   "version": "3.7.3"
  }
 },
 "nbformat": 4,
 "nbformat_minor": 2
}
